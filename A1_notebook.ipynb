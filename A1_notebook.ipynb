{
 "cells": [
  {
   "cell_type": "markdown",
   "metadata": {},
   "source": [
    "# A1 Grafo"
   ]
  },
  {
   "cell_type": "markdown",
   "metadata": {},
   "source": [
    "### Aqui está a Classe criada para esse trabalho!"
   ]
  },
  {
   "cell_type": "code",
   "execution_count": 56,
   "metadata": {},
   "outputs": [],
   "source": [
    "class Grafo:\n",
    "    def __init__(self, arquivo: str):\n",
    "        self.vertices = []\n",
    "        self.arestas = []\n",
    "        self.rotulo_dict = dict()\n",
    "        self.vizinhos_dict = dict()\n",
    "        self.n_vertices = 0\n",
    "        self.n_arestas = 0\n",
    "\n",
    "        self.ler(arquivo)\n",
    "\n",
    "    def qtdVertices(self):\n",
    "        return self.n_vertices\n",
    "\n",
    "    def qtdArestas(self):\n",
    "        return self.n_arestas\n",
    "\n",
    "    def grau(self, v):\n",
    "        return len(self.vizinhos_dict[v])\n",
    "\n",
    "    def rotulo(self, v):\n",
    "        return self.rotulo_dict[v]\n",
    "\n",
    "    def vizinhos(self, v):\n",
    "        return self.vizinhos_dict[v]\n",
    "\n",
    "    def haAresta(self, u, v):\n",
    "        # considerando que começa em 1 e nao 0\n",
    "        if self.matrix[u - 1][v - 1] != float(\"inf\"):\n",
    "            return True\n",
    "        return False\n",
    "\n",
    "    def peso(self, u, v):\n",
    "        return self.matrix[u - 1][v - 1]\n",
    "\n",
    "    def ler(self, arquivo):\n",
    "        # Formato esperado do arquivo:\n",
    "        # *vertices n\n",
    "        # 1 rotulo_1\n",
    "        # 2 rotulo_2\n",
    "        # ...\n",
    "        # *edges\n",
    "        # a b peso\n",
    "        # a c peso\n",
    "        with open(arquivo, \"r\") as f:\n",
    "            lines = f.readlines()\n",
    "\n",
    "        # Lê o número de vértices\n",
    "        if not lines or not lines[0].startswith(\"*vertices\"):\n",
    "            raise ValueError(\"Arquivo mal formatado: linha 0 deveria conter '*vertices n'\")\n",
    "        \n",
    "        try:\n",
    "            n_vertices = int(lines[0].split()[-1])\n",
    "        except ValueError:\n",
    "            raise ValueError(\"Número de vértices inválido\")\n",
    "\n",
    "        self.n_vertices = n_vertices\n",
    "        self.vertices = []\n",
    "        self.arestas = []\n",
    "        self.rotulo_dict = {}\n",
    "        self.vizinhos_dict = {}\n",
    "        self.n_arestas = 0\n",
    "\n",
    "        # Inicializa a matriz de adjacência com infinito\n",
    "        self.matrix = [\n",
    "            [float(\"inf\") for _ in range(n_vertices)] for _ in range(n_vertices)\n",
    "        ]\n",
    "\n",
    "        # Lê os vértices (linhas de 1 até n_vertices)\n",
    "        for i in range(1, n_vertices + 1):\n",
    "            line = lines[i].strip()\n",
    "            if not line:\n",
    "                continue\n",
    "\n",
    "            parts = line.split(maxsplit=1)\n",
    "            if len(parts) != 2:\n",
    "                continue  # linha mal formatada\n",
    "\n",
    "            try:\n",
    "                numero = int(parts[0])\n",
    "                rotulo = parts[1]\n",
    "            except ValueError:\n",
    "                continue\n",
    "\n",
    "            self.vertices.append(numero)\n",
    "            self.rotulo_dict[numero] = rotulo\n",
    "            self.vizinhos_dict[numero] = []\n",
    "\n",
    "        # Lê as arestas (a partir da linha '*edges')\n",
    "        # Procura a linha que começa com '*edges'\n",
    "        inicio_arestas = -1\n",
    "        for idx, line in enumerate(lines):\n",
    "            if line.strip().lower() == \"*edges\":\n",
    "                inicio_arestas = idx + 1\n",
    "                break\n",
    "\n",
    "        if inicio_arestas == -1:\n",
    "            raise ValueError(\"Arquivo não contém seção '*edges'\")\n",
    "\n",
    "        # Processa as arestas\n",
    "        for i in range(inicio_arestas, len(lines)):\n",
    "            line = lines[i].strip()\n",
    "            if not line:\n",
    "                continue\n",
    "\n",
    "            tokens = line.split()\n",
    "            if len(tokens) < 3:\n",
    "                continue  # pula linhas incompletas\n",
    "\n",
    "            try:\n",
    "                a = int(tokens[0])\n",
    "                b = int(tokens[1])\n",
    "                peso = float(tokens[2])\n",
    "            except ValueError:\n",
    "                continue\n",
    "\n",
    "            self.vizinhos_dict[a].append(b)\n",
    "            self.vizinhos_dict[b].append(a)\n",
    "\n",
    "            self.arestas.append((a, b))\n",
    "            self.matrix[a - 1][b - 1] = peso\n",
    "            self.matrix[b - 1][a - 1] = peso\n",
    "            self.n_arestas += 1\n",
    "\n",
    "\n"
   ]
  },
  {
   "cell_type": "markdown",
   "metadata": {},
   "source": [
    "### Representação teste do funcionamento da Classe"
   ]
  },
  {
   "cell_type": "code",
   "execution_count": 57,
   "metadata": {},
   "outputs": [
    {
     "name": "stdout",
     "output_type": "stream",
     "text": [
      "##########################\n",
      " FUNÇÕES DE TESTE\n",
      "quantidade de vertices: 9\n",
      "quantidade de arestas: 12\n",
      "grau do vertice 1: 4\n",
      "rotulo do vertice 1: 1\n",
      "vizinhos do vertice 1: [2, 3, 4, 5]\n",
      "ha aresta 1 2: True\n",
      "peso da aresta 1 2: 1.0\n",
      "Verificar matrix\n",
      "0    1    2    3    4    5    6    7    8    9    \n",
      "1 [inf, 1.0, 1.0, 1.0, 1.0, inf, inf, inf, inf]\n",
      "2 [1.0, inf, 1.0, inf, inf, inf, inf, inf, inf]\n",
      "3 [1.0, 1.0, inf, inf, inf, inf, 1.0, 1.0, inf]\n",
      "4 [1.0, inf, inf, inf, 1.0, inf, inf, inf, inf]\n",
      "5 [1.0, inf, inf, 1.0, inf, 1.0, inf, inf, 1.0]\n",
      "6 [inf, inf, inf, inf, 1.0, inf, inf, inf, 1.0]\n",
      "7 [inf, inf, 1.0, inf, inf, inf, inf, 1.0, inf]\n",
      "8 [inf, inf, 1.0, inf, inf, inf, 1.0, inf, inf]\n",
      "9 [inf, inf, inf, inf, 1.0, 1.0, inf, inf, inf]\n"
     ]
    }
   ],
   "source": [
    "g = Grafo(\"ContemCicloEuleriano2.net\")\n",
    "print(\"##########################\")\n",
    "print(\" FUNÇÕES DE TESTE\")\n",
    "print('quantidade de vertices:', g.qtdVertices())\n",
    "print('quantidade de arestas:', g.qtdArestas())\n",
    "print('grau do vertice 1:', g.grau(1))\n",
    "print('rotulo do vertice 1:', g.rotulo(1))\n",
    "print('vizinhos do vertice 1:', g.vizinhos(1))\n",
    "print('ha aresta 1 2:', g.haAresta(1, 2))\n",
    "print('peso da aresta 1 2:', g.peso(1, 2))\n",
    "print(\"Verificar matrix\")\n",
    "# ta feio, só quis mostrar\n",
    "arr =  [i*1.0 for i in range(1,10)]\n",
    "for i in range(0,g.qtdVertices()+1):\n",
    "    print(f'{i} ', end= \" \"*3)\n",
    "else:\n",
    "    print()\n",
    "i = 1\n",
    "for line in g.matrix:\n",
    "    print(i, line)\n",
    "    i += 1\n"
   ]
  },
  {
   "cell_type": "markdown",
   "metadata": {},
   "source": [
    "# A1_2 Busca Em Largura"
   ]
  },
  {
   "cell_type": "code",
   "execution_count": 58,
   "metadata": {},
   "outputs": [],
   "source": [
    "\n",
    "def BFS(grafo: Grafo, origem: int):\n",
    "    n_nodes = grafo.qtdVertices()\n",
    "    marked = [False for _ in range(n_nodes + 1)]\n",
    "    fila = [[origem]]  # Cada elemento da fila representa um nível\n",
    "    marked[origem] = True\n",
    "    nivel = 0\n",
    "\n",
    "    while fila:\n",
    "        vertices_nivel = fila.pop(0)\n",
    "        if not vertices_nivel:  # Nível vazio, encerra\n",
    "            break\n",
    "        # Formata e imprime o nível atual (acho q funciona)\n",
    "        print(f\"{nivel}: {', '.join(map(str, vertices_nivel))}\")\n",
    "        # Coleta os vértices do próximo nível\n",
    "        proximo_nivel = []\n",
    "        for u in vertices_nivel:\n",
    "            for v in grafo.vizinhos(u):\n",
    "                if not marked[v]:\n",
    "                    marked[v] = True\n",
    "                    proximo_nivel.append(v)\n",
    "        # se houver vertices adiciona proximo nivel\n",
    "        if proximo_nivel:\n",
    "            fila.append(proximo_nivel)\n",
    "            nivel += 1\n",
    "\n"
   ]
  },
  {
   "cell_type": "markdown",
   "metadata": {},
   "source": [
    "### Exemplo teste do funcionamento da função!"
   ]
  },
  {
   "cell_type": "code",
   "execution_count": 59,
   "metadata": {},
   "outputs": [
    {
     "name": "stdout",
     "output_type": "stream",
     "text": [
      "Origem = 1\n",
      "0: 1\n",
      "1: 2, 4, 9, 10\n",
      "2: 3, 5, 7, 8\n",
      "3: 6\n",
      "Origem = 2\n",
      "0: 2\n",
      "1: 1, 10, 3\n",
      "2: 4, 9, 5, 7, 8\n",
      "3: 6\n",
      "Origem = 3\n",
      "0: 3\n",
      "1: 2, 7, 8, 9\n",
      "2: 1, 10\n",
      "3: 4, 5\n",
      "4: 6\n",
      "Origem = 4\n",
      "0: 4\n",
      "1: 1, 5, 10\n",
      "2: 2, 9, 6\n",
      "3: 3, 7, 8\n",
      "Origem = 5\n",
      "0: 5\n",
      "1: 4, 6, 10\n",
      "2: 1, 2, 9\n",
      "3: 3, 7, 8\n",
      "Origem = 6\n",
      "0: 6\n",
      "1: 5\n",
      "2: 4, 10\n",
      "3: 1, 2, 9\n",
      "4: 3, 7, 8\n",
      "Origem = 7\n",
      "0: 7\n",
      "1: 3, 8, 9\n",
      "2: 2, 1, 10\n",
      "3: 4, 5\n",
      "4: 6\n",
      "Origem = 8\n",
      "0: 8\n",
      "1: 3, 7, 9\n",
      "2: 2, 1, 10\n",
      "3: 4, 5\n",
      "4: 6\n",
      "Origem = 9\n",
      "0: 9\n",
      "1: 1, 3, 7, 8, 10\n",
      "2: 2, 4, 5\n",
      "3: 6\n",
      "Origem = 10\n",
      "0: 10\n",
      "1: 1, 2, 4, 5, 9\n",
      "2: 3, 6, 7, 8\n"
     ]
    }
   ],
   "source": [
    "\n",
    "grafo_nome = \"fln_pequena.net\"\n",
    "g = Grafo(grafo_nome)\n",
    "vertices = g.vertices\n",
    "for v in vertices:\n",
    "    print(f\"Origem = {v}\")\n",
    "    BFS(g, v)\n"
   ]
  },
  {
   "cell_type": "markdown",
   "metadata": {},
   "source": [
    "# A1_3 Ciclo Euleriano"
   ]
  },
  {
   "cell_type": "markdown",
   "metadata": {},
   "source": [
    "### Função responsavel pela verificação de paridade das Arestas dos vertices."
   ]
  },
  {
   "cell_type": "code",
   "execution_count": 60,
   "metadata": {},
   "outputs": [],
   "source": [
    "\n",
    "def verifica_grau_par(g):\n",
    "    for v in g.vertices:\n",
    "        if len(g.vizinhos(v)) % 2 != 0:  # Verifica se o grau é ímpar\n",
    "            return False\n",
    "    return True"
   ]
  },
  {
   "cell_type": "markdown",
   "metadata": {},
   "source": [
    "### Caso os vertices do grafo sejam inteiramente grau par, iniciamos a verificação para encontrar o Ciclo Euleriano"
   ]
  },
  {
   "cell_type": "code",
   "execution_count": 61,
   "metadata": {},
   "outputs": [],
   "source": [
    "def encontra_ciclo_euleriano(g):\n",
    "    if not verifica_grau_par(g):\n",
    "        print(0)\n",
    "        return\n",
    "\n",
    "    stack = []\n",
    "    ciclo = []\n",
    "    arestas = set(g.arestas)\n",
    "    vizinhos = {v: list(g.vizinhos(v)) for v in g.vertices}\n",
    "    v = 1\n",
    "\n",
    "    while len(stack) > 0 or len(vizinhos[v]) > 0:\n",
    "        if len(vizinhos[v]) == 0:\n",
    "            ciclo.append(v)\n",
    "            v = stack.pop()\n",
    "        else:\n",
    "            stack.append(v)\n",
    "            for u in vizinhos[v]:\n",
    "                if (v, u) in arestas or (u, v) in arestas:\n",
    "                    break\n",
    "            if (v, u) in arestas:\n",
    "                arestas.remove((v, u))\n",
    "            if (u, v) in arestas:\n",
    "                arestas.remove((u, v))\n",
    "            vizinhos[v].remove(u)\n",
    "            vizinhos[u].remove(v)\n",
    "            v = u\n",
    "\n",
    "    ciclo.append(v)\n",
    "\n",
    "    if len(ciclo) <= 1 or ciclo[0] != ciclo[-1]:\n",
    "        print(0)\n",
    "    else:\n",
    "        print(1)\n",
    "        ciclo_str = \",\".join(map(str, ciclo))\n",
    "        print(ciclo_str)\n"
   ]
  },
  {
   "cell_type": "markdown",
   "metadata": {},
   "source": [
    "### Teste do algoritmo A1_3"
   ]
  },
  {
   "cell_type": "code",
   "execution_count": 62,
   "metadata": {},
   "outputs": [
    {
     "name": "stdout",
     "output_type": "stream",
     "text": [
      "1\n",
      "1,5,9,6,5,4,1,3,8,7,3,2,1\n"
     ]
    }
   ],
   "source": [
    "\n",
    "grafo_nome = \"ContemCicloEuleriano2.net\"\n",
    "g = Grafo(grafo_nome)\n",
    "encontra_ciclo_euleriano(g)"
   ]
  },
  {
   "cell_type": "markdown",
   "metadata": {},
   "source": [
    "# A1_4 Algoritmo de Dijkstra"
   ]
  },
  {
   "cell_type": "code",
   "execution_count": 63,
   "metadata": {},
   "outputs": [],
   "source": [
    "import math\n",
    "\n",
    "def dijkstra(g: Grafo, s: int):\n",
    "    n = g.qtdVertices()\n",
    "    distancias = [math.inf] * n\n",
    "    predecessores = [None] * n\n",
    "    visitados = [False] * n\n",
    "\n",
    "    distancias[s] = 0\n",
    "\n",
    "    for _ in range(n - 1):\n",
    "        u = vertice_mais_proximo(distancias, visitados)\n",
    "        if u == -1:\n",
    "            break  # Todos os acessíveis já foram visitados\n",
    "        visitados[u] = True\n",
    "\n",
    "        for viz in g.vizinhos(u + 1):\n",
    "            v = viz - 1\n",
    "            if not visitados[v] and g.haAresta(u + 1, viz):\n",
    "                peso = g.peso(u + 1, viz)\n",
    "                nova_dist = distancias[u] + peso\n",
    "                if nova_dist < distancias[v]:\n",
    "                    distancias[v] = nova_dist\n",
    "                    predecessores[v] = u\n",
    "\n",
    "    exibir_caminhos(distancias, predecessores)\n",
    "    return distancias, predecessores\n"
   ]
  },
  {
   "cell_type": "code",
   "execution_count": 64,
   "metadata": {},
   "outputs": [],
   "source": [
    "\n",
    "def vertice_mais_proximo(distancias, visitados):\n",
    "    minimo, indice = math.inf, -1\n",
    "    for i, d in enumerate(distancias):\n",
    "        if not visitados[i] and d < minimo:\n",
    "            minimo, indice = d, i\n",
    "    return indice\n"
   ]
  },
  {
   "cell_type": "code",
   "execution_count": 65,
   "metadata": {},
   "outputs": [],
   "source": [
    "\n",
    "def exibir_caminhos(distancias, predecessores):\n",
    "    for v, d in enumerate(distancias):\n",
    "        if d == math.inf:\n",
    "            print(f\"{v + 1}: ; d= inf\")\n",
    "            continue\n",
    "\n",
    "        caminho = []\n",
    "        atual = v\n",
    "        while atual is not None:\n",
    "            caminho.append(atual + 1)\n",
    "            atual = predecessores[atual]\n",
    "        caminho.reverse()\n",
    "\n",
    "        caminho_str = \",\".join(map(str, caminho))\n",
    "        print(f\"{v + 1}: {caminho_str}; d= {int(d)}\")\n"
   ]
  },
  {
   "cell_type": "markdown",
   "metadata": {},
   "source": [
    "### Teste do Algoritmo A1_4"
   ]
  },
  {
   "cell_type": "code",
   "execution_count": 66,
   "metadata": {},
   "outputs": [
    {
     "name": "stdout",
     "output_type": "stream",
     "text": [
      "1: 2,1; d= 350\n",
      "2: 2; d= 0\n",
      "3: 2,3; d= 6000\n",
      "4: 2,1,4; d= 4450\n",
      "5: 2,1,4,5; d= 5950\n",
      "6: 2,1,4,5,6; d= 14750\n",
      "7: 2,3,7; d= 11600\n",
      "8: 2,3,8; d= 10900\n",
      "9: 2,1,9; d= 8650\n",
      "10: 2,1,10; d= 4050\n"
     ]
    },
    {
     "data": {
      "text/plain": [
       "([350.0, 0, 6000.0, 4450.0, 5950.0, 14750.0, 11600.0, 10900.0, 8650.0, 4050.0],\n",
       " [1, None, 1, 0, 3, 4, 2, 2, 0, 0])"
      ]
     },
     "execution_count": 66,
     "metadata": {},
     "output_type": "execute_result"
    }
   ],
   "source": [
    "\n",
    "arquivo_entrada = \"fln_pequena.net\"\n",
    "g = Grafo(arquivo_entrada)\n",
    "vertices = g.vertices\n",
    "s = vertices[0]\n",
    "dijkstra(g, s)\n",
    "\n"
   ]
  }
 ],
 "metadata": {
  "kernelspec": {
   "display_name": "base",
   "language": "python",
   "name": "python3"
  },
  "language_info": {
   "codemirror_mode": {
    "name": "ipython",
    "version": 3
   },
   "file_extension": ".py",
   "mimetype": "text/x-python",
   "name": "python",
   "nbconvert_exporter": "python",
   "pygments_lexer": "ipython3",
   "version": "3.12.7"
  }
 },
 "nbformat": 4,
 "nbformat_minor": 2
}
